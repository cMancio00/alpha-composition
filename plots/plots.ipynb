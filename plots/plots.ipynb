{
 "cells": [
  {
   "cell_type": "code",
   "id": "initial_id",
   "metadata": {
    "collapsed": true,
    "ExecuteTime": {
     "end_time": "2024-08-10T14:44:28.457613Z",
     "start_time": "2024-08-10T14:44:28.451974Z"
    }
   },
   "source": [
    "import pandas as pd\n",
    "import seaborn as sns\n",
    "import matplotlib.pyplot as plt\n",
    "sns.set_style(\"darkgrid\", {\"grid.color\": \".6\", \"grid.linestyle\": \":\"})\n",
    "df = pd.read_csv('output.csv')"
   ],
   "outputs": [],
   "execution_count": 1
  },
  {
   "metadata": {
    "ExecuteTime": {
     "end_time": "2024-08-10T14:44:29.734105Z",
     "start_time": "2024-08-10T14:44:28.458393Z"
    }
   },
   "cell_type": "code",
   "source": [
    "for i, (background, foreground) in enumerate(df[['background', 'foreground']].drop_duplicates().values):\n",
    "    fig, axs = plt.subplots(1, 3, figsize=(15, 5))\n",
    "    \n",
    "    df_filtered = df[(df['background'] == background) & (df['foreground'] == foreground)]\n",
    "    \n",
    "    for j, image in enumerate([100, 250, 400]):\n",
    "        df_filtered_2 = df_filtered[df_filtered['images'] == image]\n",
    "        \n",
    "        sns.lineplot(x='threads', y='composing', data=df_filtered_2, ax=axs[j], color='blue', marker='x', markersize=5, markerfacecolor='red', markeredgecolor='red')\n",
    "        \n",
    "        axs[j].set_title(f'Number of images: {image}')\n",
    "        axs[j].set_xlabel('Number of threads')\n",
    "        axs[j].set_ylabel('Composing time (s)')\n",
    "    \n",
    "    axs[0].set_ylabel(f'{background}-{foreground}')\n",
    "    plt.tight_layout()\n",
    "    plt.savefig(f'{background}_{foreground}.png')\n",
    "    plt.close()"
   ],
   "id": "a870574ae7bc1485",
   "outputs": [],
   "execution_count": 2
  }
 ],
 "metadata": {
  "kernelspec": {
   "display_name": "Python 3",
   "language": "python",
   "name": "python3"
  },
  "language_info": {
   "codemirror_mode": {
    "name": "ipython",
    "version": 2
   },
   "file_extension": ".py",
   "mimetype": "text/x-python",
   "name": "python",
   "nbconvert_exporter": "python",
   "pygments_lexer": "ipython2",
   "version": "2.7.6"
  }
 },
 "nbformat": 4,
 "nbformat_minor": 5
}
